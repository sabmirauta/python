{
 "cells": [
  {
   "cell_type": "code",
   "execution_count": 1,
   "id": "fc5653b8",
   "metadata": {},
   "outputs": [],
   "source": [
    "def add(n1, n2):\n",
    "    print(n1 + n2)"
   ]
  },
  {
   "cell_type": "code",
   "execution_count": 2,
   "id": "6f4b70ef",
   "metadata": {},
   "outputs": [
    {
     "name": "stdout",
     "output_type": "stream",
     "text": [
      "30\n"
     ]
    }
   ],
   "source": [
    "add(10,20)"
   ]
  },
  {
   "cell_type": "code",
   "execution_count": 3,
   "id": "ab997a1d",
   "metadata": {},
   "outputs": [],
   "source": [
    "number1 = 10"
   ]
  },
  {
   "cell_type": "code",
   "execution_count": 4,
   "id": "6567ab9c",
   "metadata": {},
   "outputs": [
    {
     "name": "stdout",
     "output_type": "stream",
     "text": [
      "Please provide a number: 20\n"
     ]
    }
   ],
   "source": [
    "number2 = input(\"Please provide a number: \")"
   ]
  },
  {
   "cell_type": "code",
   "execution_count": 6,
   "id": "54087861",
   "metadata": {},
   "outputs": [
    {
     "ename": "TypeError",
     "evalue": "unsupported operand type(s) for +: 'int' and 'str'",
     "output_type": "error",
     "traceback": [
      "\u001b[1;31m---------------------------------------------------------------------------\u001b[0m",
      "\u001b[1;31mTypeError\u001b[0m                                 Traceback (most recent call last)",
      "\u001b[1;32m~\\AppData\\Local\\Temp/ipykernel_33328/4238921052.py\u001b[0m in \u001b[0;36m<module>\u001b[1;34m\u001b[0m\n\u001b[1;32m----> 1\u001b[1;33m \u001b[0madd\u001b[0m\u001b[1;33m(\u001b[0m\u001b[0mnumber1\u001b[0m\u001b[1;33m,\u001b[0m \u001b[0mnumber2\u001b[0m\u001b[1;33m)\u001b[0m\u001b[1;33m\u001b[0m\u001b[1;33m\u001b[0m\u001b[0m\n\u001b[0m\u001b[0;32m      2\u001b[0m \u001b[0mprint\u001b[0m\u001b[1;33m(\u001b[0m\u001b[1;34m\"Something happened\"\u001b[0m\u001b[1;33m)\u001b[0m\u001b[1;33m\u001b[0m\u001b[1;33m\u001b[0m\u001b[0m\n",
      "\u001b[1;32m~\\AppData\\Local\\Temp/ipykernel_33328/1398917812.py\u001b[0m in \u001b[0;36madd\u001b[1;34m(n1, n2)\u001b[0m\n\u001b[0;32m      1\u001b[0m \u001b[1;32mdef\u001b[0m \u001b[0madd\u001b[0m\u001b[1;33m(\u001b[0m\u001b[0mn1\u001b[0m\u001b[1;33m,\u001b[0m \u001b[0mn2\u001b[0m\u001b[1;33m)\u001b[0m\u001b[1;33m:\u001b[0m\u001b[1;33m\u001b[0m\u001b[1;33m\u001b[0m\u001b[0m\n\u001b[1;32m----> 2\u001b[1;33m     \u001b[0mprint\u001b[0m\u001b[1;33m(\u001b[0m\u001b[0mn1\u001b[0m \u001b[1;33m+\u001b[0m \u001b[0mn2\u001b[0m\u001b[1;33m)\u001b[0m\u001b[1;33m\u001b[0m\u001b[1;33m\u001b[0m\u001b[0m\n\u001b[0m",
      "\u001b[1;31mTypeError\u001b[0m: unsupported operand type(s) for +: 'int' and 'str'"
     ]
    }
   ],
   "source": [
    "add(number1, number2)\n",
    "print(\"Something happened!\")"
   ]
  },
  {
   "cell_type": "code",
   "execution_count": 14,
   "id": "87481e1a",
   "metadata": {},
   "outputs": [
    {
     "name": "stdout",
     "output_type": "stream",
     "text": [
      "Hey, it looks like you aren't adding correctly\n"
     ]
    }
   ],
   "source": [
    "try:\n",
    "    # add(number1, number2)\n",
    "    result = 10 + 10\n",
    "except:\n",
    "    print(\"Hey, it looks like you aren't adding correctly\")\n",
    "else:\n",
    "    print(\"All went well\")\n",
    "    print(result)"
   ]
  },
  {
   "cell_type": "code",
   "execution_count": 12,
   "id": "65ee97d8",
   "metadata": {},
   "outputs": [
    {
     "data": {
      "text/plain": [
       "20"
      ]
     },
     "execution_count": 12,
     "metadata": {},
     "output_type": "execute_result"
    }
   ],
   "source": [
    "result"
   ]
  },
  {
   "cell_type": "code",
   "execution_count": 21,
   "id": "2574b971",
   "metadata": {},
   "outputs": [
    {
     "name": "stdout",
     "output_type": "stream",
     "text": [
      "All other exceptions\n",
      "I always run\n"
     ]
    }
   ],
   "source": [
    "try:\n",
    "    f = open('testfile', 'r')\n",
    "    f.write('test')\n",
    "except TypeError:\n",
    "    print(\"There was a TypeError\")\n",
    "#except OSError:\n",
    " #   print(\"Hey, you have an OSError\")\n",
    "except:\n",
    "    print(\"All other exceptions\")\n",
    "finally:\n",
    "    print(\"I always run\")"
   ]
  },
  {
   "cell_type": "code",
   "execution_count": 22,
   "id": "59700d8d",
   "metadata": {},
   "outputs": [],
   "source": [
    "def ask_for_int():\n",
    "    try:\n",
    "        result = int(input(\"Please provide number: \"))\n",
    "    except:\n",
    "        print(\"Whoops! That is not a number\")\n",
    "    finally:\n",
    "        print(\"End of try/except/finally\")"
   ]
  },
  {
   "cell_type": "code",
   "execution_count": 23,
   "id": "b77b9065",
   "metadata": {},
   "outputs": [
    {
     "name": "stdout",
     "output_type": "stream",
     "text": [
      "Please provide number: 5\n",
      "End of try/except/finally\n"
     ]
    }
   ],
   "source": [
    "ask_for_int()"
   ]
  },
  {
   "cell_type": "code",
   "execution_count": 24,
   "id": "2b587090",
   "metadata": {},
   "outputs": [
    {
     "name": "stdout",
     "output_type": "stream",
     "text": [
      "Please provide number: fgsdf\n",
      "Whoops! That is not a number\n",
      "End of try/except/finally\n"
     ]
    }
   ],
   "source": [
    "ask_for_int()"
   ]
  },
  {
   "cell_type": "code",
   "execution_count": 28,
   "id": "214b3e9d",
   "metadata": {},
   "outputs": [],
   "source": [
    "def ask_for_int2():\n",
    "    while True:\n",
    "        try:\n",
    "            result = int(input(\"Please provide number: \"))\n",
    "        except:\n",
    "            print(\"Whoops! That is not a number\")\n",
    "            continue\n",
    "        else:\n",
    "            print(\"Yes! Thank you!\")\n",
    "            break\n",
    "        finally:\n",
    "            print(\"I'm going to ask you again\")"
   ]
  },
  {
   "cell_type": "code",
   "execution_count": 29,
   "id": "804beadf",
   "metadata": {},
   "outputs": [
    {
     "name": "stdout",
     "output_type": "stream",
     "text": [
      "Please provide number: er\n",
      "Whoops! That is not a number\n",
      "I'm going to ask you again\n",
      "Please provide number: dfg\n",
      "Whoops! That is not a number\n",
      "I'm going to ask you again\n",
      "Please provide number: 4\n",
      "Yes! Thank you!\n",
      "I'm going to ask you again\n"
     ]
    }
   ],
   "source": [
    "ask_for_int2()"
   ]
  },
  {
   "cell_type": "code",
   "execution_count": 30,
   "id": "cfc3d876",
   "metadata": {},
   "outputs": [],
   "source": [
    "def ask_for_int3():\n",
    "    while True:\n",
    "        try:\n",
    "            result = int(input(\"Please provide number: \"))\n",
    "        except:\n",
    "            print(\"Whoops! That is not a number\")\n",
    "            continue\n",
    "        else:\n",
    "            print(\"Yes! Thank you!\")\n",
    "            break"
   ]
  },
  {
   "cell_type": "code",
   "execution_count": 31,
   "id": "4b9dee3f",
   "metadata": {},
   "outputs": [
    {
     "name": "stdout",
     "output_type": "stream",
     "text": [
      "Please provide number: rw\n",
      "Whoops! That is not a number\n",
      "Please provide number: h\n",
      "Whoops! That is not a number\n",
      "Please provide number: 5\n",
      "Yes! Thank you!\n"
     ]
    }
   ],
   "source": [
    "ask_for_int3()"
   ]
  },
  {
   "cell_type": "code",
   "execution_count": null,
   "id": "fc5ea133",
   "metadata": {},
   "outputs": [],
   "source": []
  }
 ],
 "metadata": {
  "kernelspec": {
   "display_name": "Python 3 (ipykernel)",
   "language": "python",
   "name": "python3"
  },
  "language_info": {
   "codemirror_mode": {
    "name": "ipython",
    "version": 3
   },
   "file_extension": ".py",
   "mimetype": "text/x-python",
   "name": "python",
   "nbconvert_exporter": "python",
   "pygments_lexer": "ipython3",
   "version": "3.9.7"
  }
 },
 "nbformat": 4,
 "nbformat_minor": 5
}
