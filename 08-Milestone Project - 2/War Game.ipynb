{
 "cells": [
  {
   "cell_type": "code",
   "execution_count": 51,
   "id": "b4323509",
   "metadata": {},
   "outputs": [],
   "source": [
    "# CARD\n",
    "\n",
    "# SUIT, RANK, VALUE\n",
    "\n",
    "import random\n",
    "\n",
    "suits = ('Hearts', 'Diamonds', 'Spades', 'Clubs')\n",
    "\n",
    "ranks = ('Two', 'Three', 'Four', 'Five', 'Six', 'Seven', 'Eight', 'Nine', 'Ten', 'Jack', 'Queen', 'King', 'Ace')\n",
    "\n",
    "values = {'Two':2, 'Three':3, 'Four':4, 'Five':5, 'Six':6, 'Seven':7, 'Eight':8, 'Nine':9, 'Ten':10, 'Jack':11,\n",
    "         'Queen':12, 'King':13, 'Ace':14}"
   ]
  },
  {
   "cell_type": "code",
   "execution_count": 52,
   "id": "46a3d190",
   "metadata": {},
   "outputs": [],
   "source": [
    "class Card:\n",
    "    def __init__(self, suit, rank):\n",
    "        self.suit = suit\n",
    "        self.rank = rank\n",
    "        self.value = values[rank]\n",
    "        \n",
    "    def __str__(self):\n",
    "        return self.rank + \" of \" + self.suit\n",
    "    "
   ]
  },
  {
   "cell_type": "code",
   "execution_count": 75,
   "id": "b2df7feb",
   "metadata": {},
   "outputs": [],
   "source": [
    "class Deck:\n",
    "    \n",
    "    def __init__(self):\n",
    "        self.all_cards = []\n",
    "        \n",
    "        for suit in suits:\n",
    "            for rank in ranks:\n",
    "                created_card = Card(suit, rank)\n",
    "                self.all_cards.append(created_card)\n",
    "                \n",
    "    def shuffle(self):\n",
    "        random.shuffle(self.all_cards)\n",
    "        \n",
    "    def deal_one(self):\n",
    "        return self.all_cards.pop()"
   ]
  },
  {
   "cell_type": "code",
   "execution_count": 98,
   "id": "ecd3377b",
   "metadata": {},
   "outputs": [],
   "source": [
    "class Player:\n",
    "    \n",
    "    def __init__(self, name):\n",
    "        self.name = name\n",
    "        self.all_cards = []\n",
    "        \n",
    "    def remove_one(self):\n",
    "        return self.all_cards.pop(0)\n",
    "    \n",
    "    def add_cards(self, new_cards):\n",
    "        if type(new_cards) == type([]):\n",
    "            self.all_cards.extend(new_cards)\n",
    "        else:\n",
    "            self.all_cards.append(new_cards)\n",
    "    \n",
    "    def __str__(self):\n",
    "        return f'Player {self.name} has {len(self.all_cards)} cards.'"
   ]
  },
  {
   "cell_type": "code",
   "execution_count": 94,
   "id": "1905d1b1",
   "metadata": {},
   "outputs": [],
   "source": [
    "two_hears = Card(\"Hearts\", \"Two\")"
   ]
  },
  {
   "cell_type": "code",
   "execution_count": 39,
   "id": "d26eed98",
   "metadata": {},
   "outputs": [
    {
     "data": {
      "text/plain": [
       "<__main__.Card at 0x1b9938faa90>"
      ]
     },
     "execution_count": 39,
     "metadata": {},
     "output_type": "execute_result"
    }
   ],
   "source": [
    "two_hears"
   ]
  },
  {
   "cell_type": "code",
   "execution_count": 40,
   "id": "23121b2f",
   "metadata": {},
   "outputs": [
    {
     "name": "stdout",
     "output_type": "stream",
     "text": [
      "Two of Hearts\n"
     ]
    }
   ],
   "source": [
    "print(two_hears)"
   ]
  },
  {
   "cell_type": "code",
   "execution_count": 41,
   "id": "c9dacc53",
   "metadata": {},
   "outputs": [
    {
     "data": {
      "text/plain": [
       "'Hearts'"
      ]
     },
     "execution_count": 41,
     "metadata": {},
     "output_type": "execute_result"
    }
   ],
   "source": [
    "two_hears.suit"
   ]
  },
  {
   "cell_type": "code",
   "execution_count": 42,
   "id": "d9dcd13a",
   "metadata": {},
   "outputs": [
    {
     "data": {
      "text/plain": [
       "'Two'"
      ]
     },
     "execution_count": 42,
     "metadata": {},
     "output_type": "execute_result"
    }
   ],
   "source": [
    "two_hears.rank"
   ]
  },
  {
   "cell_type": "code",
   "execution_count": 43,
   "id": "8b8709fe",
   "metadata": {
    "scrolled": true
   },
   "outputs": [
    {
     "data": {
      "text/plain": [
       "2"
      ]
     },
     "execution_count": 43,
     "metadata": {},
     "output_type": "execute_result"
    }
   ],
   "source": [
    "values[two_hears.rank]"
   ]
  },
  {
   "cell_type": "code",
   "execution_count": 44,
   "id": "5d95da7d",
   "metadata": {},
   "outputs": [
    {
     "data": {
      "text/plain": [
       "2"
      ]
     },
     "execution_count": 44,
     "metadata": {},
     "output_type": "execute_result"
    }
   ],
   "source": [
    "two_hears.value"
   ]
  },
  {
   "cell_type": "code",
   "execution_count": 45,
   "id": "922be251",
   "metadata": {},
   "outputs": [],
   "source": [
    "three_of_clubs = Card(\"Clubs\", \"Three\")"
   ]
  },
  {
   "cell_type": "code",
   "execution_count": 46,
   "id": "97936b9d",
   "metadata": {},
   "outputs": [
    {
     "data": {
      "text/plain": [
       "'Clubs'"
      ]
     },
     "execution_count": 46,
     "metadata": {},
     "output_type": "execute_result"
    }
   ],
   "source": [
    "three_of_clubs.suit"
   ]
  },
  {
   "cell_type": "code",
   "execution_count": 47,
   "id": "cab11a3c",
   "metadata": {},
   "outputs": [
    {
     "data": {
      "text/plain": [
       "'Three'"
      ]
     },
     "execution_count": 47,
     "metadata": {},
     "output_type": "execute_result"
    }
   ],
   "source": [
    "three_of_clubs.rank"
   ]
  },
  {
   "cell_type": "code",
   "execution_count": 48,
   "id": "41c7b227",
   "metadata": {},
   "outputs": [
    {
     "data": {
      "text/plain": [
       "3"
      ]
     },
     "execution_count": 48,
     "metadata": {},
     "output_type": "execute_result"
    }
   ],
   "source": [
    "three_of_clubs.value"
   ]
  },
  {
   "cell_type": "code",
   "execution_count": 49,
   "id": "4be108c8",
   "metadata": {},
   "outputs": [
    {
     "data": {
      "text/plain": [
       "True"
      ]
     },
     "execution_count": 49,
     "metadata": {},
     "output_type": "execute_result"
    }
   ],
   "source": [
    "two_hears.value < three_of_clubs.value"
   ]
  },
  {
   "cell_type": "code",
   "execution_count": 50,
   "id": "afbeb897",
   "metadata": {},
   "outputs": [
    {
     "data": {
      "text/plain": [
       "False"
      ]
     },
     "execution_count": 50,
     "metadata": {},
     "output_type": "execute_result"
    }
   ],
   "source": [
    "two_hears.value == three_of_clubs.value"
   ]
  },
  {
   "cell_type": "code",
   "execution_count": 56,
   "id": "34143dbb",
   "metadata": {},
   "outputs": [],
   "source": [
    "deck = Deck()"
   ]
  },
  {
   "cell_type": "code",
   "execution_count": 57,
   "id": "e0661440",
   "metadata": {},
   "outputs": [
    {
     "data": {
      "text/plain": [
       "[<__main__.Card at 0x1b9939c0850>,\n",
       " <__main__.Card at 0x1b9939c0400>,\n",
       " <__main__.Card at 0x1b9938e6f70>,\n",
       " <__main__.Card at 0x1b9938e6460>,\n",
       " <__main__.Card at 0x1b9938e6580>,\n",
       " <__main__.Card at 0x1b9938e6190>,\n",
       " <__main__.Card at 0x1b9938e6280>,\n",
       " <__main__.Card at 0x1b9938e6760>,\n",
       " <__main__.Card at 0x1b9938e6040>,\n",
       " <__main__.Card at 0x1b993ab9370>,\n",
       " <__main__.Card at 0x1b993ab90a0>,\n",
       " <__main__.Card at 0x1b993ab9d60>,\n",
       " <__main__.Card at 0x1b993ab9d90>,\n",
       " <__main__.Card at 0x1b993ab9c70>,\n",
       " <__main__.Card at 0x1b993ab9f70>,\n",
       " <__main__.Card at 0x1b9939dc700>,\n",
       " <__main__.Card at 0x1b9939dc580>,\n",
       " <__main__.Card at 0x1b9939dc4c0>,\n",
       " <__main__.Card at 0x1b9939dc0a0>,\n",
       " <__main__.Card at 0x1b9939dc6a0>,\n",
       " <__main__.Card at 0x1b9939dc5b0>,\n",
       " <__main__.Card at 0x1b9939dc910>,\n",
       " <__main__.Card at 0x1b9939dc9a0>,\n",
       " <__main__.Card at 0x1b9939dc0d0>,\n",
       " <__main__.Card at 0x1b9939dc100>,\n",
       " <__main__.Card at 0x1b9939dc4f0>,\n",
       " <__main__.Card at 0x1b9939dc9d0>,\n",
       " <__main__.Card at 0x1b9939dc970>,\n",
       " <__main__.Card at 0x1b9939dc8b0>,\n",
       " <__main__.Card at 0x1b9939dc160>,\n",
       " <__main__.Card at 0x1b9939dcb20>,\n",
       " <__main__.Card at 0x1b9938fce50>,\n",
       " <__main__.Card at 0x1b9938fc670>,\n",
       " <__main__.Card at 0x1b9938fc3a0>,\n",
       " <__main__.Card at 0x1b9938fc100>,\n",
       " <__main__.Card at 0x1b9938fc610>,\n",
       " <__main__.Card at 0x1b9938fc550>,\n",
       " <__main__.Card at 0x1b9938fc6d0>,\n",
       " <__main__.Card at 0x1b9938fcb80>,\n",
       " <__main__.Card at 0x1b993a9fa60>,\n",
       " <__main__.Card at 0x1b993a9f8e0>,\n",
       " <__main__.Card at 0x1b9938fa880>,\n",
       " <__main__.Card at 0x1b9938fa340>,\n",
       " <__main__.Card at 0x1b9938fa5b0>,\n",
       " <__main__.Card at 0x1b9938fad30>,\n",
       " <__main__.Card at 0x1b9938fac40>,\n",
       " <__main__.Card at 0x1b9938fa190>,\n",
       " <__main__.Card at 0x1b9938faa30>,\n",
       " <__main__.Card at 0x1b9938fa640>,\n",
       " <__main__.Card at 0x1b9938fa940>,\n",
       " <__main__.Card at 0x1b9938fae80>,\n",
       " <__main__.Card at 0x1b9938fa130>]"
      ]
     },
     "execution_count": 57,
     "metadata": {},
     "output_type": "execute_result"
    }
   ],
   "source": [
    "deck.all_cards"
   ]
  },
  {
   "cell_type": "code",
   "execution_count": 60,
   "id": "3a7f3912",
   "metadata": {},
   "outputs": [],
   "source": [
    "first_card = deck.all_cards[0]"
   ]
  },
  {
   "cell_type": "code",
   "execution_count": 61,
   "id": "16a64e58",
   "metadata": {},
   "outputs": [
    {
     "name": "stdout",
     "output_type": "stream",
     "text": [
      "Two of Hearts\n"
     ]
    }
   ],
   "source": [
    "print(first_card)"
   ]
  },
  {
   "cell_type": "code",
   "execution_count": 62,
   "id": "4f255a5c",
   "metadata": {},
   "outputs": [],
   "source": [
    "last_card = deck.all_cards[-1]"
   ]
  },
  {
   "cell_type": "code",
   "execution_count": 63,
   "id": "8698ffb5",
   "metadata": {},
   "outputs": [
    {
     "name": "stdout",
     "output_type": "stream",
     "text": [
      "Ace of Clubs\n"
     ]
    }
   ],
   "source": [
    "print(last_card)"
   ]
  },
  {
   "cell_type": "code",
   "execution_count": 64,
   "id": "5ec086f0",
   "metadata": {},
   "outputs": [
    {
     "name": "stdout",
     "output_type": "stream",
     "text": [
      "Two of Hearts\n",
      "Three of Hearts\n",
      "Four of Hearts\n",
      "Five of Hearts\n",
      "Six of Hearts\n",
      "Seven of Hearts\n",
      "Eight of Hearts\n",
      "Nine of Hearts\n",
      "Ten of Hearts\n",
      "Jack of Hearts\n",
      "Queen of Hearts\n",
      "King of Hearts\n",
      "Ace of Hearts\n",
      "Two of Diamonds\n",
      "Three of Diamonds\n",
      "Four of Diamonds\n",
      "Five of Diamonds\n",
      "Six of Diamonds\n",
      "Seven of Diamonds\n",
      "Eight of Diamonds\n",
      "Nine of Diamonds\n",
      "Ten of Diamonds\n",
      "Jack of Diamonds\n",
      "Queen of Diamonds\n",
      "King of Diamonds\n",
      "Ace of Diamonds\n",
      "Two of Spades\n",
      "Three of Spades\n",
      "Four of Spades\n",
      "Five of Spades\n",
      "Six of Spades\n",
      "Seven of Spades\n",
      "Eight of Spades\n",
      "Nine of Spades\n",
      "Ten of Spades\n",
      "Jack of Spades\n",
      "Queen of Spades\n",
      "King of Spades\n",
      "Ace of Spades\n",
      "Two of Clubs\n",
      "Three of Clubs\n",
      "Four of Clubs\n",
      "Five of Clubs\n",
      "Six of Clubs\n",
      "Seven of Clubs\n",
      "Eight of Clubs\n",
      "Nine of Clubs\n",
      "Ten of Clubs\n",
      "Jack of Clubs\n",
      "Queen of Clubs\n",
      "King of Clubs\n",
      "Ace of Clubs\n"
     ]
    }
   ],
   "source": [
    "for card in deck.all_cards:\n",
    "    print(card)"
   ]
  },
  {
   "cell_type": "code",
   "execution_count": 67,
   "id": "eea84f47",
   "metadata": {},
   "outputs": [],
   "source": [
    "deck2 = Deck()"
   ]
  },
  {
   "cell_type": "code",
   "execution_count": 68,
   "id": "481d9da2",
   "metadata": {},
   "outputs": [],
   "source": [
    "bottom_card = deck2.all_cards[-1]"
   ]
  },
  {
   "cell_type": "code",
   "execution_count": 70,
   "id": "805ad4ba",
   "metadata": {},
   "outputs": [
    {
     "name": "stdout",
     "output_type": "stream",
     "text": [
      "Ace of Clubs\n"
     ]
    }
   ],
   "source": [
    "print(bottom_card)"
   ]
  },
  {
   "cell_type": "code",
   "execution_count": 71,
   "id": "d7376511",
   "metadata": {},
   "outputs": [],
   "source": [
    "deck2.shuffle()"
   ]
  },
  {
   "cell_type": "code",
   "execution_count": 72,
   "id": "33189ab9",
   "metadata": {},
   "outputs": [
    {
     "name": "stdout",
     "output_type": "stream",
     "text": [
      "Queen of Clubs\n"
     ]
    }
   ],
   "source": [
    "print(deck2.all_cards[-1])"
   ]
  },
  {
   "cell_type": "code",
   "execution_count": 73,
   "id": "93920dff",
   "metadata": {},
   "outputs": [
    {
     "name": "stdout",
     "output_type": "stream",
     "text": [
      "Six of Diamonds\n"
     ]
    }
   ],
   "source": [
    "print(deck2.all_cards[0])"
   ]
  },
  {
   "cell_type": "code",
   "execution_count": 76,
   "id": "b1f9b13b",
   "metadata": {},
   "outputs": [],
   "source": [
    "deck3 = Deck()"
   ]
  },
  {
   "cell_type": "code",
   "execution_count": 77,
   "id": "8077567f",
   "metadata": {},
   "outputs": [],
   "source": [
    "deck3.shuffle()"
   ]
  },
  {
   "cell_type": "code",
   "execution_count": 78,
   "id": "5129397e",
   "metadata": {},
   "outputs": [],
   "source": [
    "mycard = deck3.deal_one()"
   ]
  },
  {
   "cell_type": "code",
   "execution_count": 79,
   "id": "c30b83ca",
   "metadata": {},
   "outputs": [
    {
     "name": "stdout",
     "output_type": "stream",
     "text": [
      "Five of Spades\n"
     ]
    }
   ],
   "source": [
    "print(mycard)"
   ]
  },
  {
   "cell_type": "code",
   "execution_count": 80,
   "id": "cd38dd3c",
   "metadata": {},
   "outputs": [
    {
     "data": {
      "text/plain": [
       "51"
      ]
     },
     "execution_count": 80,
     "metadata": {},
     "output_type": "execute_result"
    }
   ],
   "source": [
    "len(deck3.all_cards)"
   ]
  },
  {
   "cell_type": "code",
   "execution_count": 99,
   "id": "5ca05730",
   "metadata": {},
   "outputs": [],
   "source": [
    "player = Player(\"Jose\")"
   ]
  },
  {
   "cell_type": "code",
   "execution_count": 102,
   "id": "b5a71f31",
   "metadata": {},
   "outputs": [
    {
     "name": "stdout",
     "output_type": "stream",
     "text": [
      "Player Jose has 1 cards.\n"
     ]
    }
   ],
   "source": [
    "print(player)"
   ]
  },
  {
   "cell_type": "code",
   "execution_count": 103,
   "id": "0e210ecd",
   "metadata": {},
   "outputs": [],
   "source": [
    "player.add_cards(mycard)"
   ]
  },
  {
   "cell_type": "code",
   "execution_count": 104,
   "id": "38109ebd",
   "metadata": {},
   "outputs": [
    {
     "name": "stdout",
     "output_type": "stream",
     "text": [
      "Player Jose has 2 cards.\n"
     ]
    }
   ],
   "source": [
    "print(player)"
   ]
  },
  {
   "cell_type": "code",
   "execution_count": 105,
   "id": "d183dc18",
   "metadata": {},
   "outputs": [],
   "source": [
    "player.add_cards([mycard, mycard, mycard, mycard])"
   ]
  },
  {
   "cell_type": "code",
   "execution_count": 106,
   "id": "bddcdb6f",
   "metadata": {},
   "outputs": [
    {
     "name": "stdout",
     "output_type": "stream",
     "text": [
      "Player Jose has 6 cards.\n"
     ]
    }
   ],
   "source": [
    "print(player)"
   ]
  },
  {
   "cell_type": "code",
   "execution_count": 107,
   "id": "d9398d24",
   "metadata": {},
   "outputs": [
    {
     "data": {
      "text/plain": [
       "<__main__.Card at 0x1b993ad00a0>"
      ]
     },
     "execution_count": 107,
     "metadata": {},
     "output_type": "execute_result"
    }
   ],
   "source": [
    "player.remove_one()"
   ]
  },
  {
   "cell_type": "code",
   "execution_count": 108,
   "id": "9086d885",
   "metadata": {},
   "outputs": [
    {
     "name": "stdout",
     "output_type": "stream",
     "text": [
      "Player Jose has 5 cards.\n"
     ]
    }
   ],
   "source": [
    "print(player)"
   ]
  },
  {
   "cell_type": "markdown",
   "id": "78b88c9a",
   "metadata": {},
   "source": [
    "## Game Logic"
   ]
  },
  {
   "cell_type": "code",
   "execution_count": 120,
   "id": "681ac391",
   "metadata": {},
   "outputs": [],
   "source": [
    "# Game setup \n",
    "player1 = Player(\"One\")\n",
    "player2 = Player(\"Two\")\n",
    "\n",
    "deck = Deck()\n",
    "deck.shuffle()\n",
    "\n",
    "for x in range(26):\n",
    "    player1.add_cards(deck.deal_one())\n",
    "    player2.add_cards(deck.deal_one())\n",
    "    \n",
    "game_on = True"
   ]
  },
  {
   "cell_type": "code",
   "execution_count": 121,
   "id": "8f71eb7a",
   "metadata": {},
   "outputs": [
    {
     "name": "stdout",
     "output_type": "stream",
     "text": [
      "Currently at round 1\n",
      "WAR!\n",
      "Currently at round 2\n",
      "Currently at round 3\n",
      "Currently at round 4\n",
      "Currently at round 5\n",
      "Currently at round 6\n",
      "Currently at round 7\n",
      "Currently at round 8\n",
      "Currently at round 9\n",
      "Currently at round 10\n",
      "Currently at round 11\n",
      "Currently at round 12\n",
      "Currently at round 13\n",
      "Currently at round 14\n",
      "Currently at round 15\n",
      "Currently at round 16\n",
      "Currently at round 17\n",
      "Currently at round 18\n",
      "Currently at round 19\n",
      "Currently at round 20\n",
      "Currently at round 21\n",
      "Currently at round 22\n",
      "Currently at round 23\n",
      "Currently at round 24\n",
      "Currently at round 25\n",
      "Currently at round 26\n",
      "Currently at round 27\n",
      "Currently at round 28\n",
      "Currently at round 29\n",
      "Currently at round 30\n",
      "Currently at round 31\n",
      "Currently at round 32\n",
      "Currently at round 33\n",
      "Currently at round 34\n",
      "Currently at round 35\n",
      "Currently at round 36\n",
      "Currently at round 37\n",
      "Currently at round 38\n",
      "WAR!\n",
      "Currently at round 39\n",
      "Currently at round 40\n",
      "Currently at round 41\n",
      "Currently at round 42\n",
      "Currently at round 43\n",
      "Currently at round 44\n",
      "Currently at round 45\n",
      "WAR!\n",
      "Currently at round 46\n",
      "Currently at round 47\n",
      "Currently at round 48\n",
      "Currently at round 49\n",
      "Currently at round 50\n",
      "Currently at round 51\n",
      "Currently at round 52\n",
      "WAR!\n",
      "Player 1 does not have enough cards. Player 2 wins\n"
     ]
    }
   ],
   "source": [
    "round_num = 0\n",
    "\n",
    "while game_on:\n",
    "    \n",
    "    round_num += 1\n",
    "    print(f\"Currently at round {round_num}\")\n",
    "    \n",
    "    if len(player1.all_cards) == 0:\n",
    "        print(\"Player 1 out of cards. Player 2 wins.\")\n",
    "        game_on = False\n",
    "        break\n",
    "    \n",
    "    if len(player2.all_cards) == 0:\n",
    "        print(\"Player 2 out of cards. Player 1 wins.\")\n",
    "        game_on = False\n",
    "        break\n",
    "    \n",
    "    # Start a new round\n",
    "    player1_cards = []\n",
    "    player1_cards.append(player1.remove_one())\n",
    "    player2_cards = []\n",
    "    player2_cards.append(player2.remove_one())\n",
    "    \n",
    "    at_war = True\n",
    "    \n",
    "    while at_war:\n",
    "        \n",
    "        if player1_cards[-1].value > player2_cards[-1].value:\n",
    "            player1.add_cards(player1_cards)\n",
    "            player1.add_cards(player2_cards)\n",
    "            at_war = False\n",
    "        \n",
    "        elif player2_cards[-1].value > player1_cards[-1].value:\n",
    "            player2.add_cards(player1_cards)\n",
    "            player2.add_cards(player2_cards)\n",
    "            at_war = False\n",
    "    \n",
    "        else:\n",
    "            print(\"WAR!\")\n",
    "            \n",
    "            if len(player1.all_cards) < 5:\n",
    "                print(\"Player 1 does not have enough cards. Player 2 wins\")\n",
    "                game_on = False\n",
    "                break\n",
    "                \n",
    "            elif len(player2.all_cards) < 5:\n",
    "                print(\"Player 2 does not have enough cards. Player 1 wins\")\n",
    "                game_on = False\n",
    "                break\n",
    "    \n",
    "            else:\n",
    "                for num in range(5):\n",
    "                    player1_cards.append(player1.remove_one())\n",
    "                    player2_cards.append(player2.remove_one())\n",
    "    "
   ]
  },
  {
   "cell_type": "code",
   "execution_count": 113,
   "id": "1cb05e33",
   "metadata": {},
   "outputs": [
    {
     "data": {
      "text/plain": [
       "26"
      ]
     },
     "execution_count": 113,
     "metadata": {},
     "output_type": "execute_result"
    }
   ],
   "source": [
    "len(player1.all_cards)"
   ]
  },
  {
   "cell_type": "code",
   "execution_count": null,
   "id": "d8f85d07",
   "metadata": {},
   "outputs": [],
   "source": []
  }
 ],
 "metadata": {
  "kernelspec": {
   "display_name": "Python 3 (ipykernel)",
   "language": "python",
   "name": "python3"
  },
  "language_info": {
   "codemirror_mode": {
    "name": "ipython",
    "version": 3
   },
   "file_extension": ".py",
   "mimetype": "text/x-python",
   "name": "python",
   "nbconvert_exporter": "python",
   "pygments_lexer": "ipython3",
   "version": "3.9.7"
  }
 },
 "nbformat": 4,
 "nbformat_minor": 5
}
