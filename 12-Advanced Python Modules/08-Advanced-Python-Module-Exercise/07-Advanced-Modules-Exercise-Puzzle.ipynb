{
 "cells": [
  {
   "cell_type": "markdown",
   "metadata": {},
   "source": [
    "___\n",
    "\n",
    "<a href='https://www.udemy.com/user/joseportilla/'><img src='../../Pierian_Data_Logo.png'/></a>\n",
    "___\n",
    "<center><em>Content Copyright by Pierian Data</em></center>"
   ]
  },
  {
   "cell_type": "markdown",
   "metadata": {},
   "source": [
    "# Advanced Modules Exercise Puzzle\n",
    "\n",
    "It's time to test your new skills, this puzzle project will combine multiple skills sets, including unzipping files with Python, using os module to automatically search through lots of files.\n",
    "\n",
    "## Your Goal\n",
    "\n",
    "This is a puzzle, so we don't want to give you too much guidance and instead have you figure out things on your own.\n",
    "\n",
    "There is a .zip file called 'unzip_me_for_instructions.zip', unzip it, open the .txt file with Python, read the instructions and see if you can figure out what you need to do!\n",
    "\n",
    "**If you get stuck or don't know where to start, here is a [guide/hints](https://docs.google.com/document/d/1JxydUr4n4fSR0EwwuwT-aHia-yPK6r-oTBuVT2sqheo/edit?usp=sharing)**"
   ]
  },
  {
   "cell_type": "code",
   "execution_count": 9,
   "metadata": {},
   "outputs": [],
   "source": [
    "import shutil\n",
    "import os\n",
    "import re"
   ]
  },
  {
   "cell_type": "code",
   "execution_count": 10,
   "metadata": {},
   "outputs": [],
   "source": [
    "shutil.unpack_archive('unzip_me_for_instructions.zip', extract_dir=\"unzipped\", format=\"zip\")"
   ]
  },
  {
   "cell_type": "code",
   "execution_count": 11,
   "metadata": {},
   "outputs": [
    {
     "data": {
      "text/plain": [
       "'C:\\\\Users\\\\sabin\\\\_Complete-Python-3-Bootcamp-master\\\\12-Advanced Python Modules\\\\08-Advanced-Python-Module-Exercise'"
      ]
     },
     "execution_count": 11,
     "metadata": {},
     "output_type": "execute_result"
    }
   ],
   "source": [
    "pwd"
   ]
  },
  {
   "cell_type": "code",
   "execution_count": 12,
   "metadata": {
    "scrolled": true
   },
   "outputs": [
    {
     "data": {
      "text/plain": [
       "'C:\\\\Users\\\\sabin\\\\_Complete-Python-3-Bootcamp-master\\\\12-Advanced Python Modules\\\\08-Advanced-Python-Module-Exercise'"
      ]
     },
     "execution_count": 12,
     "metadata": {},
     "output_type": "execute_result"
    }
   ],
   "source": [
    "os.getcwd()"
   ]
  },
  {
   "cell_type": "code",
   "execution_count": 38,
   "metadata": {},
   "outputs": [
    {
     "name": "stdout",
     "output_type": "stream",
     "text": [
      "Good work on unzipping the file!\n",
      "You should now see 5 folders, each with a lot of random .txt files.\n",
      "Within one of these text files is a telephone number formated ###-###-#### \n",
      "Use the Python os module and regular expressions to iterate through each file, open it, and search for a telephone number.\n",
      "Good luck!\n"
     ]
    }
   ],
   "source": [
    "with open(\"unzipped\\\\extracted_content\\\\Instructions.txt\") as f:\n",
    "    content = f.read()\n",
    "    print(content)"
   ]
  },
  {
   "cell_type": "code",
   "execution_count": 39,
   "metadata": {},
   "outputs": [
    {
     "name": "stdout",
     "output_type": "stream",
     "text": [
      "\n",
      "Searching in folder unzipped\n",
      "\tNo files here\n",
      "\n",
      "Searching in folder unzipped\\extracted_content\n",
      "\tSearching in file Instructions.txt\n",
      "\n",
      "Searching in folder unzipped\\extracted_content\\Five\n",
      "\tSearching in file AEITMYIRQLP.txt\n",
      "\tSearching in file APJKSRITGGX.txt\n",
      "\tSearching in file AQKATDFGXTS.txt\n",
      "\tSearching in file ARLKFCWIAJE.txt\n",
      "\tSearching in file AXJGVPVEFAS.txt\n",
      "\tSearching in file BNUQEHCFRTG.txt\n",
      "\tSearching in file BSKJDRNEZQM.txt\n",
      "\tSearching in file BTYWAHLHKBM.txt\n",
      "\tSearching in file BUGKBZWRRVI.txt\n",
      "\tSearching in file BVBURZZCAPR.txt\n",
      "\tSearching in file CAHBEVSVDDN.txt\n",
      "\tSearching in file COMGMZBJAYE.txt\n",
      "\tSearching in file CRFSDGYFSHA.txt\n",
      "\tSearching in file CSCLFZCDYYC.txt\n",
      "\tSearching in file CXBVCTRBBIE.txt\n",
      "\tSearching in file DDLASODUVPX.txt\n",
      "\tSearching in file DHZBAAYEADM.txt\n",
      "\tSearching in file DQPZQLBCJYP.txt\n",
      "\tSearching in file DYOPIIVMZOO.txt\n",
      "\tSearching in file DZUWWXYIAEL.txt\n",
      "\tSearching in file EAAOEPSAWMQ.txt\n",
      "\tSearching in file EIPWXMQZJKU.txt\n",
      "\tSearching in file ESIZWBHMGDP.txt\n",
      "\tSearching in file ETCUEXWNBCF.txt\n",
      "\tSearching in file EYTCGIOYWIW.txt\n",
      "\n",
      "Searching in folder unzipped\\extracted_content\\Four\n",
      "\tSearching in file ECIOBYCDVFI.txt\n",
      "\tSearching in file EMTGPSXQEJX.txt\n",
      "\tFound phone number ['719-266-2837'] in the file EMTGPSXQEJX.txt\n",
      "\tSearching in file EPRNUHRSESC.txt\n",
      "\tSearching in file ESDIZXHYCVY.txt\n",
      "\tSearching in file EXVQSVBQQQH.txt\n",
      "\tSearching in file QCTCKDIBBVG.txt\n",
      "\tSearching in file QCWCFLKNZMN.txt\n",
      "\tSearching in file QDDETWBHJYC.txt\n",
      "\tSearching in file QTDYYIFPHAU.txt\n",
      "\tSearching in file QVNJULGXNUM.txt\n",
      "\tSearching in file REAXWSOIQDY.txt\n",
      "\tSearching in file ROICPTWKXDX.txt\n",
      "\tSearching in file RSXOTNGKBML.txt\n",
      "\tSearching in file RXDARIDGKBF.txt\n",
      "\tSearching in file RYNXFYXMKHG.txt\n",
      "\tSearching in file TAKNAVDMZKV.txt\n",
      "\tSearching in file THPNEGKTJWI.txt\n",
      "\tSearching in file TJFMLJODVAD.txt\n",
      "\tSearching in file TKCZSFQNJTX.txt\n",
      "\tSearching in file TWUOYFCCYBQ.txt\n",
      "\tSearching in file WFSKPTXPFCH.txt\n",
      "\tSearching in file WHTOHQUWXIN.txt\n",
      "\tSearching in file WNJISWPEBRS.txt\n",
      "\tSearching in file WXDJDOGZEHN.txt\n",
      "\tSearching in file WYDLGSGGXKV.txt\n",
      "\n",
      "Searching in folder unzipped\\extracted_content\\One\n",
      "\tSearching in file HDOHZHFSTTK.txt\n",
      "\tSearching in file HFUTPPAXDIS.txt\n",
      "\tSearching in file HMNZTLIFGPD.txt\n",
      "\tSearching in file HRQFTHKVJTL.txt\n",
      "\tSearching in file HVUTZEVMSBW.txt\n",
      "\tSearching in file JDLRVFCXYLU.txt\n",
      "\tSearching in file JEHBLZPUPSP.txt\n",
      "\tSearching in file JLTXKIGCWDL.txt\n",
      "\tSearching in file JQUOBKFUACN.txt\n",
      "\tSearching in file JTHSNBNPQSE.txt\n",
      "\tSearching in file KCXGNQCZBLO.txt\n",
      "\tSearching in file KFIUZFERLET.txt\n",
      "\tSearching in file KMMLGJOWLGI.txt\n",
      "\tSearching in file KNBSKDREHQU.txt\n",
      "\tSearching in file KTXDHIOKAUI.txt\n",
      "\tSearching in file LDGOCUQJNNS.txt\n",
      "\tSearching in file LFEATJAAYDC.txt\n",
      "\tSearching in file LHODFIKVTQA.txt\n",
      "\tSearching in file LIFDHOFKWOI.txt\n",
      "\tSearching in file LPNDVDXPZIG.txt\n",
      "\tSearching in file PDJMSMNKIRM.txt\n",
      "\tSearching in file PHWAVPEKAER.txt\n",
      "\tSearching in file PLYCGPVEAWO.txt\n",
      "\tSearching in file PQNVCVJINAR.txt\n",
      "\tSearching in file PTOBBCJYURJ.txt\n",
      "\n",
      "Searching in folder unzipped\\extracted_content\\Three\n",
      "\tSearching in file VAQIJTDOFUJ.txt\n",
      "\tSearching in file VCFJCGJFBIH.txt\n",
      "\tSearching in file VSXFSTABZDY.txt\n",
      "\tSearching in file VVHFVZUNLOO.txt\n",
      "\tSearching in file VVKGWLRMHLU.txt\n",
      "\tSearching in file XAJMCPEWFNI.txt\n",
      "\tSearching in file XFHJOTNPEJG.txt\n",
      "\tSearching in file XHZPVUQTXIO.txt\n",
      "\tSearching in file XJCWENFFGHB.txt\n",
      "\tSearching in file XVMPVSVYKFR.txt\n",
      "\tSearching in file YCESZHJDBXH.txt\n",
      "\tSearching in file YDQFMWXOUMW.txt\n",
      "\tSearching in file YQBIUHSUEVW.txt\n",
      "\tSearching in file YQRNCMNFFHW.txt\n",
      "\tSearching in file YYIZGBTQHZP.txt\n",
      "\tSearching in file ZEZKKRBIZEB.txt\n",
      "\tSearching in file ZKQJXAYKPVD.txt\n",
      "\tSearching in file ZOWVXWPOGWP.txt\n",
      "\tSearching in file ZXEZRQXZNPG.txt\n",
      "\tSearching in file ZXIBJMPROKW.txt\n",
      "\n",
      "Searching in folder unzipped\\extracted_content\\Two\n",
      "\tSearching in file GKQBQRCTNNK.txt\n",
      "\tSearching in file GMMQQUBMJNR.txt\n",
      "\tSearching in file GQTJJORZBXY.txt\n",
      "\tSearching in file GTOTCIWMDBY.txt\n",
      "\tSearching in file GXYSEPAFRTP.txt\n",
      "\tSearching in file HARDNJGDRBC.txt\n",
      "\tSearching in file HEORIXOTANT.txt\n",
      "\tSearching in file HMUTDOVNYTV.txt\n",
      "\tSearching in file HMZXPBOPRAE.txt\n",
      "\tSearching in file HTOHSTYXTCO.txt\n",
      "\tSearching in file LCJZYDHBFRM.txt\n",
      "\tSearching in file LSQSTGPIGIY.txt\n",
      "\tSearching in file LULTNYAQEJG.txt\n",
      "\tSearching in file LVMBINRBJXL.txt\n",
      "\tSearching in file LYZEQCVYNEZ.txt\n",
      "\tSearching in file OHZOUOSFJQC.txt\n",
      "\tSearching in file OIHMLGMWTHL.txt\n",
      "\tSearching in file OKWFOOYTXFU.txt\n",
      "\tSearching in file OMWIMVRCMYM.txt\n",
      "\tSearching in file OYMAGXAGWHJ.txt\n",
      "\tSearching in file SIKFPPLCJDN.txt\n",
      "\tSearching in file SJMJLDGPBSJ.txt\n",
      "\tSearching in file SOFUJYXTIMK.txt\n",
      "\tSearching in file SPDZYGDHEWO.txt\n",
      "\tSearching in file SWOFXREEHWA.txt\n",
      "\n",
      "Found following phone numbers: ['719-266-2837']\n"
     ]
    }
   ],
   "source": [
    "pattern = r\"\\d{3}-\\d{3}-\\d{4}\"\n",
    "\n",
    "found_numbers = []\n",
    "\n",
    "for folder , sub_folders , files in os.walk(\"unzipped\"):\n",
    "    print(f\"\\nSearching in folder {folder}\")\n",
    "    \n",
    "    if len(files) == 0:\n",
    "        print(\"\\tNo files here\")\n",
    "        continue\n",
    "    \n",
    "    for f in files:\n",
    "        file_path = os.getcwd() + \"\\\\\" + folder + \"\\\\\" + f\n",
    "        print(f\"\\tSearching in file {f}\")\n",
    "\n",
    "        for line in open(file_path):\n",
    "            result = re.findall(pattern, line)\n",
    "            if len(result) > 0:\n",
    "                print(f\"\\tFound phone number {result} in the file {f}\")\n",
    "                found_numbers += result\n",
    "                \n",
    "print(f\"\\nFound following phone numbers: {found_numbers}\")"
   ]
  },
  {
   "cell_type": "code",
   "execution_count": null,
   "metadata": {},
   "outputs": [],
   "source": []
  }
 ],
 "metadata": {
  "anaconda-cloud": {},
  "kernelspec": {
   "display_name": "Python 3 (ipykernel)",
   "language": "python",
   "name": "python3"
  },
  "language_info": {
   "codemirror_mode": {
    "name": "ipython",
    "version": 3
   },
   "file_extension": ".py",
   "mimetype": "text/x-python",
   "name": "python",
   "nbconvert_exporter": "python",
   "pygments_lexer": "ipython3",
   "version": "3.9.7"
  }
 },
 "nbformat": 4,
 "nbformat_minor": 2
}
