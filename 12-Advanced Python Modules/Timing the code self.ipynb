{
 "cells": [
  {
   "cell_type": "code",
   "execution_count": 3,
   "id": "0b0693d1",
   "metadata": {},
   "outputs": [],
   "source": [
    "def function1(n):\n",
    "    return [str(num) for num in range(n)]"
   ]
  },
  {
   "cell_type": "code",
   "execution_count": 4,
   "id": "39409f76",
   "metadata": {},
   "outputs": [
    {
     "data": {
      "text/plain": [
       "['0', '1', '2', '3', '4', '5', '6', '7', '8', '9']"
      ]
     },
     "execution_count": 4,
     "metadata": {},
     "output_type": "execute_result"
    }
   ],
   "source": [
    "function1(10)"
   ]
  },
  {
   "cell_type": "code",
   "execution_count": 5,
   "id": "f3b9f8cf",
   "metadata": {},
   "outputs": [],
   "source": [
    "def function2(n):\n",
    "    return list(map(str, range(n)))"
   ]
  },
  {
   "cell_type": "code",
   "execution_count": 6,
   "id": "0a421d9d",
   "metadata": {},
   "outputs": [
    {
     "data": {
      "text/plain": [
       "['0', '1', '2', '3', '4', '5', '6', '7', '8', '9']"
      ]
     },
     "execution_count": 6,
     "metadata": {},
     "output_type": "execute_result"
    }
   ],
   "source": [
    "function2(10)"
   ]
  },
  {
   "cell_type": "code",
   "execution_count": 7,
   "id": "17b5bee5",
   "metadata": {},
   "outputs": [],
   "source": [
    "import time "
   ]
  },
  {
   "cell_type": "code",
   "execution_count": 18,
   "id": "03458a98",
   "metadata": {},
   "outputs": [
    {
     "name": "stdout",
     "output_type": "stream",
     "text": [
      "0.0\n"
     ]
    }
   ],
   "source": [
    "# crt time\n",
    "start_time = time.time()\n",
    "# run code\n",
    "result = function1(10000)\n",
    "# grab time after\n",
    "end_time = time.time()\n",
    "elapsed_time = end_time-start_time\n",
    "print(elapsed_time)"
   ]
  },
  {
   "cell_type": "code",
   "execution_count": 19,
   "id": "af0c78b6",
   "metadata": {},
   "outputs": [
    {
     "name": "stdout",
     "output_type": "stream",
     "text": [
      "0.0019989013671875\n"
     ]
    }
   ],
   "source": [
    "# crt time\n",
    "start_time = time.time()\n",
    "# run code\n",
    "result = function2(10000)\n",
    "# grab time after\n",
    "end_time = time.time()\n",
    "elapsed_time = end_time-start_time\n",
    "print(elapsed_time)"
   ]
  },
  {
   "cell_type": "code",
   "execution_count": 21,
   "id": "e9305c38",
   "metadata": {},
   "outputs": [],
   "source": [
    "import timeit\n",
    "stmt = '''\n",
    "function1(100)\n",
    "'''"
   ]
  },
  {
   "cell_type": "code",
   "execution_count": 22,
   "id": "078b9acc",
   "metadata": {},
   "outputs": [],
   "source": [
    "setup = '''\n",
    "def function1(n):\n",
    "    return [str(num) for num in range(n)]\n",
    "'''"
   ]
  },
  {
   "cell_type": "code",
   "execution_count": 26,
   "id": "4954ec54",
   "metadata": {},
   "outputs": [
    {
     "data": {
      "text/plain": [
       "13.715100800000073"
      ]
     },
     "execution_count": 26,
     "metadata": {},
     "output_type": "execute_result"
    }
   ],
   "source": [
    "timeit.timeit(stmt, setup, number=1000000)"
   ]
  },
  {
   "cell_type": "code",
   "execution_count": 27,
   "id": "c8e77037",
   "metadata": {},
   "outputs": [],
   "source": [
    "stmt2 = '''\n",
    "function2(100)\n",
    "'''\n",
    "setup2 = '''\n",
    "def function2(n):\n",
    "    return list(map(str, range(n)))\n",
    "'''"
   ]
  },
  {
   "cell_type": "code",
   "execution_count": 28,
   "id": "0f9fd1f6",
   "metadata": {},
   "outputs": [
    {
     "data": {
      "text/plain": [
       "11.45396530000005"
      ]
     },
     "execution_count": 28,
     "metadata": {},
     "output_type": "execute_result"
    }
   ],
   "source": [
    "timeit.timeit(stmt2, setup2, number=1000000)"
   ]
  },
  {
   "cell_type": "code",
   "execution_count": null,
   "id": "7d05bb75",
   "metadata": {},
   "outputs": [],
   "source": [
    "%%timeit\n",
    "function1(100)"
   ]
  },
  {
   "cell_type": "code",
   "execution_count": null,
   "id": "14994ce6",
   "metadata": {},
   "outputs": [],
   "source": []
  }
 ],
 "metadata": {
  "kernelspec": {
   "display_name": "Python 3 (ipykernel)",
   "language": "python",
   "name": "python3"
  },
  "language_info": {
   "codemirror_mode": {
    "name": "ipython",
    "version": 3
   },
   "file_extension": ".py",
   "mimetype": "text/x-python",
   "name": "python",
   "nbconvert_exporter": "python",
   "pygments_lexer": "ipython3",
   "version": "3.9.7"
  }
 },
 "nbformat": 4,
 "nbformat_minor": 5
}
