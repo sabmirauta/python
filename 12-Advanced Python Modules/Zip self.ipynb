{
 "cells": [
  {
   "cell_type": "code",
   "execution_count": 1,
   "id": "27216efc",
   "metadata": {},
   "outputs": [],
   "source": [
    "f = open('file1.text', 'w+')\n",
    "f.write(\"One file\")\n",
    "f.close()"
   ]
  },
  {
   "cell_type": "code",
   "execution_count": 2,
   "id": "4ef03639",
   "metadata": {},
   "outputs": [],
   "source": [
    "f = open('file2.text', 'w+')\n",
    "f.write(\"Two file\")\n",
    "f.close()"
   ]
  },
  {
   "cell_type": "code",
   "execution_count": 3,
   "id": "d7d39290",
   "metadata": {},
   "outputs": [],
   "source": [
    "import zipfile"
   ]
  },
  {
   "cell_type": "code",
   "execution_count": 4,
   "id": "f49f2868",
   "metadata": {},
   "outputs": [],
   "source": [
    "comp_file = zipfile.ZipFile('comp_file.zip', 'w')"
   ]
  },
  {
   "cell_type": "code",
   "execution_count": 6,
   "id": "0eec1c1d",
   "metadata": {},
   "outputs": [],
   "source": [
    "comp_file.write(\"file1.text\", compress_type=zipfile.ZIP_DEFLATED)"
   ]
  },
  {
   "cell_type": "code",
   "execution_count": 7,
   "id": "c3ddaf9f",
   "metadata": {},
   "outputs": [],
   "source": [
    "comp_file.write(\"file2.text\", compress_type=zipfile.ZIP_DEFLATED)"
   ]
  },
  {
   "cell_type": "code",
   "execution_count": 8,
   "id": "d95f4089",
   "metadata": {},
   "outputs": [],
   "source": [
    "comp_file.close()"
   ]
  },
  {
   "cell_type": "code",
   "execution_count": 9,
   "id": "47b37cad",
   "metadata": {},
   "outputs": [],
   "source": [
    "zip_obj = zipfile.ZipFile('comp_file.zip', 'r')"
   ]
  },
  {
   "cell_type": "code",
   "execution_count": 10,
   "id": "ac6a035f",
   "metadata": {},
   "outputs": [],
   "source": [
    "zip_obj.extractall('extracted_content')"
   ]
  },
  {
   "cell_type": "code",
   "execution_count": 11,
   "id": "3406cae7",
   "metadata": {},
   "outputs": [
    {
     "data": {
      "text/plain": [
       "'C:\\\\Users\\\\sabin\\\\_Complete-Python-3-Bootcamp-master\\\\12-Advanced Python Modules'"
      ]
     },
     "execution_count": 11,
     "metadata": {},
     "output_type": "execute_result"
    }
   ],
   "source": [
    "pwd"
   ]
  },
  {
   "cell_type": "code",
   "execution_count": 12,
   "id": "84b886ad",
   "metadata": {},
   "outputs": [],
   "source": [
    "import shutil"
   ]
  },
  {
   "cell_type": "code",
   "execution_count": 13,
   "id": "131c3631",
   "metadata": {},
   "outputs": [],
   "source": [
    "dir_to_zip = \"C:\\\\Users\\\\sabin\\\\_Complete-Python-3-Bootcamp-master\\\\12-Advanced Python Modules\\\\extracted_content\""
   ]
  },
  {
   "cell_type": "code",
   "execution_count": 14,
   "id": "6bd315e4",
   "metadata": {},
   "outputs": [
    {
     "data": {
      "text/plain": [
       "'C:\\\\Users\\\\sabin\\\\_Complete-Python-3-Bootcamp-master\\\\12-Advanced Python Modules\\\\example.zip'"
      ]
     },
     "execution_count": 14,
     "metadata": {},
     "output_type": "execute_result"
    }
   ],
   "source": [
    "output_filename = \"example\"\n",
    "shutil.make_archive(output_filename, \"zip\", dir_to_zip)"
   ]
  },
  {
   "cell_type": "code",
   "execution_count": 15,
   "id": "2b84a5cd",
   "metadata": {},
   "outputs": [],
   "source": [
    "shutil.unpack_archive(\"example.zip\", \"final_unzip\", \"zip\")"
   ]
  },
  {
   "cell_type": "code",
   "execution_count": null,
   "id": "9949675f",
   "metadata": {},
   "outputs": [],
   "source": []
  }
 ],
 "metadata": {
  "kernelspec": {
   "display_name": "Python 3 (ipykernel)",
   "language": "python",
   "name": "python3"
  },
  "language_info": {
   "codemirror_mode": {
    "name": "ipython",
    "version": 3
   },
   "file_extension": ".py",
   "mimetype": "text/x-python",
   "name": "python",
   "nbconvert_exporter": "python",
   "pygments_lexer": "ipython3",
   "version": "3.9.7"
  }
 },
 "nbformat": 4,
 "nbformat_minor": 5
}
