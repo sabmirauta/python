{
 "cells": [
  {
   "cell_type": "code",
   "execution_count": 15,
   "id": "7f4943ba",
   "metadata": {},
   "outputs": [],
   "source": [
    "class Dog():\n",
    "    \n",
    "    # Class attribute - same for any instance of a class\n",
    "    species = 'mammal'\n",
    "    \n",
    "    def __init__(self, breed, name):\n",
    "        self.breed = breed\n",
    "        self.name = name\n",
    "        \n",
    "    # Actions, aka methods\n",
    "    def bark(self):\n",
    "        print('WOOF! My name is {}'.format(self.name))\n",
    "        \n",
    "    def bark2(self, number):\n",
    "        print('WOOF! My name is {} and the number is {}'.format(self.name, number))"
   ]
  },
  {
   "cell_type": "code",
   "execution_count": 16,
   "id": "9bfceb4f",
   "metadata": {},
   "outputs": [],
   "source": [
    "mydog = Dog('Lab', 'Frankie')"
   ]
  },
  {
   "cell_type": "code",
   "execution_count": 17,
   "id": "f823fd18",
   "metadata": {},
   "outputs": [
    {
     "data": {
      "text/plain": [
       "__main__.Dog"
      ]
     },
     "execution_count": 17,
     "metadata": {},
     "output_type": "execute_result"
    }
   ],
   "source": [
    "type(mydog)"
   ]
  },
  {
   "cell_type": "code",
   "execution_count": 18,
   "id": "385aa755",
   "metadata": {},
   "outputs": [
    {
     "data": {
      "text/plain": [
       "'Frankie'"
      ]
     },
     "execution_count": 18,
     "metadata": {},
     "output_type": "execute_result"
    }
   ],
   "source": [
    "mydog.name"
   ]
  },
  {
   "cell_type": "code",
   "execution_count": 19,
   "id": "6a968901",
   "metadata": {},
   "outputs": [
    {
     "data": {
      "text/plain": [
       "'mammal'"
      ]
     },
     "execution_count": 19,
     "metadata": {},
     "output_type": "execute_result"
    }
   ],
   "source": [
    "mydog.species"
   ]
  },
  {
   "cell_type": "code",
   "execution_count": 22,
   "id": "9f0f5b88",
   "metadata": {},
   "outputs": [
    {
     "name": "stdout",
     "output_type": "stream",
     "text": [
      "WOOF! My name is Frankie and the number is 10\n"
     ]
    }
   ],
   "source": [
    "mydog.bark2(10)"
   ]
  },
  {
   "cell_type": "code",
   "execution_count": 42,
   "id": "3bca1f35",
   "metadata": {},
   "outputs": [],
   "source": [
    "class Circle():\n",
    "    \n",
    "    # Class attr\n",
    "    pi = 3.14\n",
    "    \n",
    "    def __init__(self, radius=1):\n",
    "        self.radius = radius\n",
    "        self.area = radius * radius * Circle.pi\n",
    "        \n",
    "    def get_circumference(self):\n",
    "        return self.pi * self.radius * 2"
   ]
  },
  {
   "cell_type": "code",
   "execution_count": 43,
   "id": "f771232e",
   "metadata": {},
   "outputs": [],
   "source": [
    "circle = Circle(30)"
   ]
  },
  {
   "cell_type": "code",
   "execution_count": 44,
   "id": "83160ce1",
   "metadata": {},
   "outputs": [
    {
     "data": {
      "text/plain": [
       "188.4"
      ]
     },
     "execution_count": 44,
     "metadata": {},
     "output_type": "execute_result"
    }
   ],
   "source": [
    "circle.get_circumference()"
   ]
  },
  {
   "cell_type": "code",
   "execution_count": 45,
   "id": "daae3245",
   "metadata": {},
   "outputs": [
    {
     "data": {
      "text/plain": [
       "30"
      ]
     },
     "execution_count": 45,
     "metadata": {},
     "output_type": "execute_result"
    }
   ],
   "source": [
    "circle.radius"
   ]
  },
  {
   "cell_type": "code",
   "execution_count": 46,
   "id": "875b8095",
   "metadata": {},
   "outputs": [
    {
     "data": {
      "text/plain": [
       "2826.0"
      ]
     },
     "execution_count": 46,
     "metadata": {},
     "output_type": "execute_result"
    }
   ],
   "source": [
    "circle.area"
   ]
  },
  {
   "cell_type": "code",
   "execution_count": null,
   "id": "e25ca5eb",
   "metadata": {},
   "outputs": [],
   "source": []
  }
 ],
 "metadata": {
  "kernelspec": {
   "display_name": "Python 3 (ipykernel)",
   "language": "python",
   "name": "python3"
  },
  "language_info": {
   "codemirror_mode": {
    "name": "ipython",
    "version": 3
   },
   "file_extension": ".py",
   "mimetype": "text/x-python",
   "name": "python",
   "nbconvert_exporter": "python",
   "pygments_lexer": "ipython3",
   "version": "3.9.7"
  }
 },
 "nbformat": 4,
 "nbformat_minor": 5
}
